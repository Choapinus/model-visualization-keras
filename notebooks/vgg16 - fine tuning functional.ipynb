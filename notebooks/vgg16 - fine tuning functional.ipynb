{
 "cells": [
  {
   "cell_type": "code",
   "execution_count": 1,
   "metadata": {
    "scrolled": true
   },
   "outputs": [
    {
     "name": "stderr",
     "output_type": "stream",
     "text": [
      "Using TensorFlow backend.\n"
     ]
    }
   ],
   "source": [
    "from keras.models import load_model\n",
    "import matplotlib.pyplot as plt\n",
    "import numpy as np\n",
    "np.random.seed(1337) # for reproducibility\n",
    "from keras.utils import np_utils\n",
    "%matplotlib inline\n",
    "np.set_printoptions(precision=5, suppress=True)\n",
    "import cv2\n",
    "from keras import backend as K\n",
    "from keras.layers import Activation\n",
    "from keras.preprocessing.image import img_to_array\n",
    "import os"
   ]
  },
  {
   "cell_type": "code",
   "execution_count": 2,
   "metadata": {},
   "outputs": [],
   "source": [
    "im_dir = '/home/choppy/Desktop/CNN/male_female_cnn/examples/'\n",
    "images = os.listdir(im_dir)\n",
    "im_names = images[:]\n",
    "images = list(map(lambda x: os.path.join(im_dir, x), images))\n",
    "images = np.array(list(map(lambda x: cv2.imread(x), images)), dtype=object)\n",
    "\n",
    "# im = cv2.imread(im_dir)"
   ]
  },
  {
   "cell_type": "code",
   "execution_count": 3,
   "metadata": {},
   "outputs": [],
   "source": [
    "model = load_model('final_last8_layers.h5')"
   ]
  },
  {
   "cell_type": "code",
   "execution_count": 4,
   "metadata": {},
   "outputs": [],
   "source": [
    "images = np.array(list(map(lambda x: cv2.resize(x, (224, 224)), images)))\n",
    "images = np.array(list(map(lambda x: x.astype(\"float\") / 255.0, images)))\n",
    "images = np.array(list(map(lambda x: img_to_array(x), images)))\n",
    "images = np.array(list(map(lambda x: np.expand_dims(x, axis=0), images)))\n"
   ]
  },
  {
   "cell_type": "code",
   "execution_count": 5,
   "metadata": {},
   "outputs": [
    {
     "name": "stdout",
     "output_type": "stream",
     "text": [
      "kurisu.jpg \t male: 54.38%\n",
      "f_china.jpg \t female: 100.00%\n",
      "f_sinlentes.jpg \t female: 98.99%\n",
      "dvega.png \t female: 99.93%\n",
      "f_china02.jpg \t female: 98.70%\n",
      "ñom01.jpg \t male: 60.14%\n",
      "miguel.png \t female: 99.67%\n",
      "dave.jpeg \t male: 76.57%\n",
      "m_lentes.jpeg \t male: 99.97%\n",
      "m_sinlentes.jpg \t male: 99.13%\n",
      "ñom02.jpg \t male: 52.32%\n",
      "f_lentes.jpg \t female: 85.44%\n"
     ]
    }
   ],
   "source": [
    "# (female, male) = model.predict(images)\n",
    "# esto porque f > m\n",
    "\n",
    "labels = []\n",
    "preds = list(map(lambda x: model.predict(x), images))\n",
    "\n",
    "for p in preds:\n",
    "    (female, male) = p[0]\n",
    "    label = \"male\" if male > female else \"female\"\n",
    "    proba = male if male > female else female\n",
    "    label = \"{}: {:.2f}%\".format(label, proba * 100)\n",
    "    labels.append(label)\n",
    "\n",
    "for i in range(len(preds)):\n",
    "    print(im_names[i], '\\t', labels[i])"
   ]
  },
  {
   "cell_type": "code",
   "execution_count": 4,
   "metadata": {},
   "outputs": [],
   "source": [
    "# https://github.com/keras-team/keras/issues/10417\n",
    "\n",
    "import json\n",
    "import h5py\n",
    "\n",
    "def fix_layer0(filename, batch_input_shape, dtype):\n",
    "    with h5py.File(filename, 'r+') as f:\n",
    "        model_config = json.loads(f.attrs['model_config'].decode('utf-8'))\n",
    "        layer0 = model_config['config'][0]['config']\n",
    "        layer0['batch_input_shape'] = batch_input_shape\n",
    "        layer0['dtype'] = dtype\n",
    "        f.attrs['model_config'] = json.dumps(model_config).encode('utf-8')\n",
    "\n",
    "# Example\n",
    "fix_layer0('final_last8_layers.h5', [None, 224, 224, 3], 'float32')\n",
    "\n",
    "# no se como, pero lo hizo funcionar xd\n",
    "# nota: si descargas el modelo de drive, debe pasar por esta funcion para arreglar el input\n",
    "# por algun motivo, cagó (es mas, no aparece en el summary, pero igual funciona la cnn)"
   ]
  },
  {
   "cell_type": "code",
   "execution_count": null,
   "metadata": {},
   "outputs": [],
   "source": []
  }
 ],
 "metadata": {
  "kernelspec": {
   "display_name": "Python 3",
   "language": "python",
   "name": "python3"
  },
  "language_info": {
   "codemirror_mode": {
    "name": "ipython",
    "version": 3
   },
   "file_extension": ".py",
   "mimetype": "text/x-python",
   "name": "python",
   "nbconvert_exporter": "python",
   "pygments_lexer": "ipython3",
   "version": "3.6.6"
  }
 },
 "nbformat": 4,
 "nbformat_minor": 2
}
